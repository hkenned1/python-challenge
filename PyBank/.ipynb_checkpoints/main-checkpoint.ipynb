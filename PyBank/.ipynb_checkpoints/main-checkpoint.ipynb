{
 "cells": [
  {
   "cell_type": "code",
   "execution_count": 58,
   "id": "4bfeac21-88c7-4bc5-a89b-12d0873bea23",
   "metadata": {},
   "outputs": [
    {
     "name": "stdout",
     "output_type": "stream",
     "text": [
      "Financial Analysis\n",
      "----------------------------\n",
      "Total number of months in the dataset: 86\n",
      "Total net profit/loss: $38382578\n",
      "Average change: $-2315.12\n",
      "Greatest Increase in Profits: Feb-2012, $1926159\n",
      "Greatest Decrease in Profits: Sep-2013, $-2196167\n"
     ]
    }
   ],
   "source": [
    "# Write command to import needed module\n",
    "\n",
    "import csv\n",
    "\n",
    "#Initialize variables to calculate\n",
    "\n",
    "total_months = 0\n",
    "total_amount = 0\n",
    "net_change_list = []\n",
    "greatest_increase = [\" \", 0]\n",
    "greatest_decrease = [\" \", 99999999]\n",
    "month_change = []\n",
    "\n",
    "#Open the csv file and read thru contents into reader\n",
    "\n",
    "with open(\"budget_data.csv\", \"r\") as total_amount_revenue:\n",
    "    reader = csv.reader(total_amount_revenue)\n",
    "    header = next(reader) \n",
    "    first_row = next(reader)\n",
    "    total_months = total_months + 1\n",
    "    total_amount = total_amount + int(first_row[1])\n",
    "    previous_net = int(first_row[1])\n",
    "\n",
    "#Loop through reach row to calculate variables\n",
    "    for row in reader:\n",
    "        total_months = total_months + 1\n",
    "        total_amount = total_amount + int(row[1])\n",
    "        \n",
    "# Find the average change\n",
    "        net_change = int(row[1]) - previous_net\n",
    "        previous_net = int(row[1])\n",
    "        net_change_list = net_change_list + [net_change]\n",
    "        month_change = month_change + [row[0]]\n",
    "        net_monthly_average = round(sum(net_change_list) / len(net_change_list), 2)\n",
    "    \n",
    "#Find the greatest increase\n",
    "        if net_change > greatest_increase[1]:\n",
    "            greatest_increase[0] = row[0]\n",
    "            greatest_increase[1] = net_change\n",
    "            \n",
    "#Find the greatest decrease          \n",
    "        if net_change < greatest_decrease[1]:\n",
    "            greatest_decrease[0] = row[0]\n",
    "            greatest_decrease[1] = net_change    \n",
    "\n",
    "#Print the outputs to the terminal\n",
    "print(\"Financial Analysis\")\n",
    "print(\"----------------------------\")\n",
    "print(f\"Total number of months in the dataset: {total_months}\")\n",
    "print(f\"Total net profit/loss: ${total_amount}\")\n",
    "print(f\"Average change: ${net_monthly_average}\")\n",
    "print(f\"Greatest Increase in Profits: {greatest_increase[0]}, ${greatest_increase[1]}\")\n",
    "print(f\"Greatest Decrease in Profits: {greatest_decrease[0]}, ${greatest_decrease[1]}\")\n",
    "\n",
    "#Export a text file of the results\n",
    "with open(\"budget_data.txt\", \"w\") as text:\n",
    "    text.write(\"Financial Analysis\\n\")\n",
    "    text.write(\"----------------------------\\n\")\n",
    "    text.write(f\"Total number of months in the dataset: {total_months}\\n\")\n",
    "    text.write(f\"Total net profit/loss: ${total_amount}\\n\")\n",
    "    text.write(f\"Average Change: ${net_monthly_average}\\n\")\n",
    "    text.write(f\"Greatest Increase in Profits: {greatest_increase[0]} (${greatest_increase[1]})\\n\")\n",
    "    text.write(f\"Greatest Decrease in Profits: {greatest_decrease[0]} (${greatest_decrease[1]})\\n\")\n"
   ]
  },
  {
   "cell_type": "code",
   "execution_count": null,
   "id": "98903fdf-2379-4926-a38a-7308696844a0",
   "metadata": {},
   "outputs": [],
   "source": []
  }
 ],
 "metadata": {
  "kernelspec": {
   "display_name": "Python 3 (ipykernel)",
   "language": "python",
   "name": "python3"
  },
  "language_info": {
   "codemirror_mode": {
    "name": "ipython",
    "version": 3
   },
   "file_extension": ".py",
   "mimetype": "text/x-python",
   "name": "python",
   "nbconvert_exporter": "python",
   "pygments_lexer": "ipython3",
   "version": "3.9.12"
  }
 },
 "nbformat": 4,
 "nbformat_minor": 5
}
